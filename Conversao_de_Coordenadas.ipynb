{
  "nbformat": 4,
  "nbformat_minor": 0,
  "metadata": {
    "colab": {
      "provenance": [],
      "authorship_tag": "ABX9TyNpL8VNf2ZdUYJqQZlmhbzt",
      "include_colab_link": true
    },
    "kernelspec": {
      "name": "python3",
      "display_name": "Python 3"
    },
    "language_info": {
      "name": "python"
    }
  },
  "cells": [
    {
      "cell_type": "markdown",
      "metadata": {
        "id": "view-in-github",
        "colab_type": "text"
      },
      "source": [
        "<a href=\"https://colab.research.google.com/github/jpfsc/conversao-coordenadas-geograficas/blob/main/Conversao_de_Coordenadas.ipynb\" target=\"_parent\"><img src=\"https://colab.research.google.com/assets/colab-badge.svg\" alt=\"Open In Colab\"/></a>"
      ]
    },
    {
      "cell_type": "markdown",
      "source": [
        "# Instalação do pacote PyProj no Google Colab"
      ],
      "metadata": {
        "id": "h4q9OLOKRYIw"
      }
    },
    {
      "cell_type": "code",
      "source": [
        "!pip install pyproj\n",
        "\n",
        "print(pyproj.__version__)\n",
        "print(pyproj.proj_version_str)\n",
        "pyproj.sync.get_proj_endpoint()"
      ],
      "metadata": {
        "colab": {
          "base_uri": "https://localhost:8080/"
        },
        "id": "KJgSG86hsolu",
        "outputId": "a441dbbf-c498-4eb7-fe68-5d6496707cfc"
      },
      "execution_count": null,
      "outputs": [
        {
          "output_type": "stream",
          "name": "stdout",
          "text": [
            "Looking in indexes: https://pypi.org/simple, https://us-python.pkg.dev/colab-wheels/public/simple/\n",
            "Collecting pyproj\n",
            "  Downloading pyproj-3.2.1-cp37-cp37m-manylinux2010_x86_64.whl (6.3 MB)\n",
            "\u001b[K     |████████████████████████████████| 6.3 MB 13.7 MB/s \n",
            "\u001b[?25hRequirement already satisfied: certifi in /usr/local/lib/python3.7/dist-packages (from pyproj) (2022.5.18.1)\n",
            "Installing collected packages: pyproj\n",
            "Successfully installed pyproj-3.2.1\n"
          ]
        }
      ]
    },
    {
      "cell_type": "markdown",
      "source": [
        "# Setup\n",
        "Referencia: https://spatialreference.org/"
      ],
      "metadata": {
        "id": "J-lqx-VER31g"
      }
    },
    {
      "cell_type": "code",
      "execution_count": null,
      "metadata": {
        "id": "g1qPExk4scKS"
      },
      "outputs": [],
      "source": [
        "import pyproj\n",
        "\n",
        "# definição de datum mais utilizados no Brasil\n",
        "\n",
        "wgs84 = pyproj.Proj(projparams = 'epsg:4326')        # WGS84 geographic\n",
        "sirgas2000 = pyproj.Proj(projparams = 'epsg:4674')   # SIRGAS2000 geographic\n",
        "sirgas2000 = pyproj.Proj(projparams = 'epsg:31983')  # SIRGAS2000 UTM 23 S\n",
        "web_mercator = pyproj.Proj(projparams = 'epsg:3857') # WGS84 Web Mercator (Auxiliary Sphere)"
      ]
    },
    {
      "cell_type": "markdown",
      "source": [
        "# Modelo de conversão"
      ],
      "metadata": {
        "id": "yjlDK--cR9pq"
      }
    },
    {
      "cell_type": "code",
      "source": [
        "proj_input = 31983\n",
        "proj_output = 4674\n",
        "\n",
        "proj = pyproj.Transformer.from_crs(proj_input, proj_output, always_xy=True)"
      ],
      "metadata": {
        "colab": {
          "base_uri": "https://localhost:8080/"
        },
        "id": "xNr6hI68wDkQ",
        "outputId": "f936f3d1-5fb2-4a6e-e672-cf04b4ddfa48"
      },
      "execution_count": null,
      "outputs": [
        {
          "output_type": "stream",
          "name": "stdout",
          "text": [
            "(31.123388004388083, -13.92534988003851)\n"
          ]
        }
      ]
    },
    {
      "cell_type": "markdown",
      "source": [
        "# Aplicação do Modelo de Conversão"
      ],
      "metadata": {
        "id": "ej4jbfkESI8O"
      }
    },
    {
      "cell_type": "code",
      "source": [
        "# dados de entrada\n",
        "\n",
        "x1, y1 = (11705274.6374, 4826473.6922)\n",
        "\n",
        "# conversão\n",
        "\n",
        "x2, y2 = proj.transform(x1, y1)\n",
        "print((x2, y2))  # (-105.15027111593008, 39.72785727727918)"
      ],
      "metadata": {
        "id": "xUzfwYcl17Bl"
      },
      "execution_count": null,
      "outputs": []
    }
  ]
}